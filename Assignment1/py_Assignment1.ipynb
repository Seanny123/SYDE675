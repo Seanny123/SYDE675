{
 "cells": [
  {
   "cell_type": "code",
   "execution_count": 55,
   "metadata": {
    "collapsed": false
   },
   "outputs": [],
   "source": [
    "import numpy as np\n",
    "import scipy.linalg\n",
    "\n",
    "def trans_cov(dat, cov, mean=np.array([[0],[0]])):\n",
    "    evals, evecs = scipy.linalg.eigh(cov)\n",
    "    c = np.dot(evecs, np.diag(np.sqrt(evals)))\n",
    "    res = np.dot(c,dat)\n",
    "    if not np.allclose(np.round(np.cov(res)), cov):\n",
    "        print(np.cov(res))\n",
    "    res = res + mean\n",
    "    assert np.allclose(np.round(np.mean(res, axis=1)), mean.T[0])\n",
    "    \n",
    "    return res"
   ]
  },
  {
   "cell_type": "code",
   "execution_count": 57,
   "metadata": {
    "collapsed": false
   },
   "outputs": [
    {
     "name": "stdout",
     "output_type": "stream",
     "text": [
      "[[ 3.45366582  2.60255534]\n",
      " [ 2.60255534  3.50330068]]\n",
      "[[ 8.47693555 -3.63843368]\n",
      " [-3.63843368  4.08472999]]\n"
     ]
    }
   ],
   "source": [
    "dats = [\n",
    "            [trans_cov(np.random.randn(2, 200), np.eye(2)),\n",
    "             trans_cov(np.random.randn(2, 200), np.eye(2), np.array([[3],[0]]))],\n",
    "    \n",
    "            [trans_cov(np.random.randn(2, 200), np.array([[4,3],[3,4]]), np.array([[-1],[0]])),\n",
    "             trans_cov(np.random.randn(2, 200), np.array([[4,3],[3,4]]), np.array([[1],[0]]))],\n",
    "    \n",
    "            [trans_cov(np.random.randn(2, 200), np.array([[3,1],[1,2]])),\n",
    "             trans_cov(np.random.randn(2, 200), np.array([[7,-3],[-3,4]]), np.array([[3],[0]]))]\n",
    "        ]"
   ]
  },
  {
   "cell_type": "code",
   "execution_count": null,
   "metadata": {
    "collapsed": true
   },
   "outputs": [],
   "source": []
  },
  {
   "cell_type": "code",
   "execution_count": null,
   "metadata": {
    "collapsed": true
   },
   "outputs": [],
   "source": []
  }
 ],
 "metadata": {
  "kernelspec": {
   "display_name": "Python 2",
   "language": "python",
   "name": "python2"
  },
  "language_info": {
   "codemirror_mode": {
    "name": "ipython",
    "version": 2
   },
   "file_extension": ".py",
   "mimetype": "text/x-python",
   "name": "python",
   "nbconvert_exporter": "python",
   "pygments_lexer": "ipython2",
   "version": "2.7.6"
  }
 },
 "nbformat": 4,
 "nbformat_minor": 0
}
