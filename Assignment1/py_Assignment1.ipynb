{
 "cells": [
  {
   "cell_type": "code",
   "execution_count": 5,
   "metadata": {
    "collapsed": false
   },
   "outputs": [],
   "source": [
    "import numpy as np\n",
    "import scipy.linalg\n",
    "import scipy.io\n",
    "%matplotlib inline\n",
    "\n",
    "def trans_cov(dat, cov, mean=np.array([[0],[0]])):\n",
    "    evals, evecs = scipy.linalg.eigh(cov)\n",
    "    c = np.dot(evecs, np.diag(np.sqrt(evals)))\n",
    "    res = np.dot(c,dat)\n",
    "    if not np.allclose(np.round(np.cov(res)), cov):\n",
    "        print(np.cov(res))\n",
    "    res = res + mean\n",
    "    assert np.allclose(np.round(np.mean(res, axis=1)), mean.T[0])\n",
    "    \n",
    "    return res"
   ]
  },
  {
   "cell_type": "code",
   "execution_count": 6,
   "metadata": {
    "collapsed": false
   },
   "outputs": [
    {
     "name": "stdout",
     "output_type": "stream",
     "text": [
      "[[ 4.10049248  3.25739422]\n",
      " [ 3.25739422  4.63924995]]\n",
      "[[ 6.24505817 -2.57995205]\n",
      " [-2.57995205  3.74264519]]\n"
     ]
    }
   ],
   "source": [
    "dats = [\n",
    "            [trans_cov(np.random.randn(2, 200), np.eye(2)),\n",
    "             trans_cov(np.random.randn(2, 200), np.eye(2), np.array([[3],[0]]))],\n",
    "    \n",
    "            [trans_cov(np.random.randn(2, 200), np.array([[4,3],[3,4]]), np.array([[-1],[0]])),\n",
    "             trans_cov(np.random.randn(2, 200), np.array([[4,3],[3,4]]), np.array([[1],[0]]))],\n",
    "    \n",
    "            [trans_cov(np.random.randn(2, 200), np.array([[3,1],[1,2]])),\n",
    "             trans_cov(np.random.randn(2, 200), np.array([[7,-3],[-3,4]]), np.array([[3],[0]]))]\n",
    "        ]"
   ]
  },
  {
   "cell_type": "code",
   "execution_count": 7,
   "metadata": {
    "collapsed": false
   },
   "outputs": [],
   "source": [
    "dats.append([scipy.io.loadmat(\"case4.mat\")[\"a\"], scipy.io.loadmat(\"case4.mat\")[\"b\"]])"
   ]
  },
  {
   "cell_type": "code",
   "execution_count": 9,
   "metadata": {
    "collapsed": false
   },
   "outputs": [],
   "source": [
    "import matplotlib.pyplot as plt\n",
    "from matplotlib.patches import Ellipse\n",
    "\n",
    "def plot_point_cov(points, nstd=2, ax=None, **kwargs):\n",
    "    \"\"\"\n",
    "    Plots an `nstd` sigma ellipse based on the mean and covariance of a point\n",
    "    \"cloud\" (points, an Nx2 array).\n",
    "\n",
    "    Parameters\n",
    "    ----------\n",
    "        points : An Nx2 array of the data points.\n",
    "        nstd : The radius of the ellipse in numbers of standard deviations.\n",
    "            Defaults to 2 standard deviations.\n",
    "        ax : The axis that the ellipse will be plotted on. Defaults to the \n",
    "            current axis.\n",
    "        Additional keyword arguments are pass on to the ellipse patch.\n",
    "\n",
    "    Returns\n",
    "    -------\n",
    "        A matplotlib ellipse artist\n",
    "    \"\"\"\n",
    "    pos = points.mean(axis=0)\n",
    "    cov = np.cov(points, rowvar=False)\n",
    "    return plot_cov_ellipse(cov, pos, nstd, ax, **kwargs)\n",
    "\n",
    "def plot_cov_ellipse(cov, pos, nstd=2, ax=None, **kwargs):\n",
    "    \"\"\"\n",
    "    Plots an `nstd` sigma error ellipse based on the specified covariance\n",
    "    matrix (`cov`). Additional keyword arguments are passed on to the \n",
    "    ellipse patch artist.\n",
    "\n",
    "    Parameters\n",
    "    ----------\n",
    "        cov : The 2x2 covariance matrix to base the ellipse on\n",
    "        pos : The location of the center of the ellipse. Expects a 2-element\n",
    "            sequence of [x0, y0].\n",
    "        nstd : The radius of the ellipse in numbers of standard deviations.\n",
    "            Defaults to 2 standard deviations.\n",
    "        ax : The axis that the ellipse will be plotted on. Defaults to the \n",
    "            current axis.\n",
    "        Additional keyword arguments are pass on to the ellipse patch.\n",
    "\n",
    "    Returns\n",
    "    -------\n",
    "        A matplotlib ellipse artist\n",
    "    \"\"\"\n",
    "    def eigsorted(cov):\n",
    "        vals, vecs = np.linalg.eigh(cov)\n",
    "        order = vals.argsort()[::-1]\n",
    "        return vals[order], vecs[:,order]\n",
    "\n",
    "    if ax is None:\n",
    "        ax = plt.gca()\n",
    "\n",
    "    vals, vecs = eigsorted(cov)\n",
    "    theta = np.degrees(np.arctan2(*vecs[:,0][::-1]))\n",
    "\n",
    "    # Width and height are \"full\" widths, not radius\n",
    "    width, height = 2 * nstd * np.sqrt(vals)\n",
    "    ellip = Ellipse(xy=pos, width=width, height=height, angle=theta, **kwargs)\n",
    "\n",
    "    ax.add_artist(ellip)\n",
    "    return ellip"
   ]
  },
  {
   "cell_type": "code",
   "execution_count": 143,
   "metadata": {
    "collapsed": false
   },
   "outputs": [
    {
     "data": {
      "image/png": "[encoded data removed]",
      "text/plain": [
       "<matplotlib.figure.Figure at 0x7f421dfa40d0>"
      ]
     },
     "metadata": {},
     "output_type": "display_data"
    }
   ],
   "source": [
    "dat = dats[0]\n",
    "fig = plt.figure()\n",
    "plt.scatter(dat[0][0], dat[0][1], color=\"red\")\n",
    "plt.scatter(dat[1][0], dat[1][1], color=\"blue\")\n",
    "plt.show()"
   ]
  },
  {
   "cell_type": "code",
   "execution_count": 133,
   "metadata": {
    "collapsed": false
   },
   "outputs": [],
   "source": [
    "def med(c1, c2):\n",
    "    \"\"\"Create an med function\"\"\"\n",
    "    z1 = np.mean(c1, axis=1)\n",
    "    z2 = np.mean(c2, axis=1)\n",
    "    def f(x):\n",
    "        return -np.dot(z1,x) + 0.5*np.dot(z1.T,z1) < -np.dot(z2,x) + 0.5*np.dot(z2.T,z2)\n",
    "    return f"
   ]
  },
  {
   "cell_type": "code",
   "execution_count": 134,
   "metadata": {
    "collapsed": false
   },
   "outputs": [],
   "source": [
    "af = med(dat[0], dat[1])"
   ]
  },
  {
   "cell_type": "code",
   "execution_count": 137,
   "metadata": {
    "collapsed": false
   },
   "outputs": [],
   "source": [
    "res1 = af(dat[0])\n",
    "res2 = af(dat[1])"
   ]
  },
  {
   "cell_type": "code",
   "execution_count": 3,
   "metadata": {
    "collapsed": false
   },
   "outputs": [],
   "source": [
    "def ged(c1, c2):\n",
    "    # transform each class to have have perfect covariance\n",
    "    c1_mod = trans_cov(c1, np.array([[4,3],[3,4]]), np.array([np.mean(c1, axis=1)]).T)\n",
    "    c2_mod = trans_cov(c2, np.array([[4,3],[3,4]]), np.array([np.mean(c2, axis=1)]).T)\n",
    "    # then do the usual med\n",
    "    return med(c1_mod, c2_mod)"
   ]
  },
  {
   "cell_type": "code",
   "execution_count": 139,
   "metadata": {
    "collapsed": false
   },
   "outputs": [
    {
     "data": {
      "text/plain": [
       "array([[ 0.95775183, -0.05674961],\n",
       "       [-0.05674961,  1.09919095]])"
      ]
     },
     "execution_count": 139,
     "metadata": {},
     "output_type": "execute_result"
    }
   ],
   "source": [
    "np.cov(dat[0])"
   ]
  },
  {
   "cell_type": "code",
   "execution_count": 11,
   "metadata": {
    "collapsed": true
   },
   "outputs": [],
   "source": [
    "from numpy.linalg import norm, inv\n",
    "\n",
    "def map_class(c1, c2):\n",
    "    e1 = np.cov(c1)\n",
    "    e2 = np.cov(c2)\n",
    "    u1 = np.cov(u1)\n",
    "    u2 = np.cov(u2)\n",
    "    \n",
    "    def f(x):\n",
    "        return np.log(np.sqrt(norm(e2))/np.sqrt(norm(e1))) \\\n",
    "               -0.5*(x - u1)*inv(e1)*(x-u1).T \\\n",
    "               +0.5*(x - u2)*inv(e2)*(x-u2).T \\\n",
    "                < 0"
   ]
  },
  {
   "cell_type": "code",
   "execution_count": 24,
   "metadata": {
    "collapsed": true
   },
   "outputs": [],
   "source": [
    "def knn(c1, c2, k):\n",
    "    # initiaslise with K points from each class\n",
    "    zero_shape = (c1.shape[0], c1.shape[1]*2)\n",
    "    c1_res = np.zeros(zero_shape)\n",
    "    c1_count = 0\n",
    "    c2_res = np.zeros(zero_shape)\n",
    "    c2_count = 0\n",
    "    c_all = np.concatenate((c1, c2), axis=1)\n",
    "\n",
    "    # because numpy nditer is psychotic\n",
    "    for c_ind in xrange(c_all.shape[1]):\n",
    "        val = c_all[:, c_ind]\n",
    "        #find the nearest K neighbours\n",
    "        ind = np.argpartition(norm(c_all.T - val, axis=1), k+1)[:k+1][1:k+1]\n",
    "        \n",
    "        # class the point where the majority of the neighbours are\n",
    "        for ix in ind:\n",
    "            if ix < c1.shape[1]:\n",
    "                c1_res[:, c1_count] = val\n",
    "                c1_count += 1\n",
    "            else:\n",
    "                c2_res[:, c2_count] = val\n",
    "                c2_count += 1\n",
    "    assert c1_count + c2_count == c1.shape[1] + c1.shape[1]\n",
    "    return (c1_res[:, :c1_count], c2_res[:, :c2_count])"
   ]
  },
  {
   "cell_type": "code",
   "execution_count": 25,
   "metadata": {
    "collapsed": false
   },
   "outputs": [
    {
     "data": {
      "image/png": "[encoded data removed]",
      "text/plain": [
       "<matplotlib.figure.Figure at 0x7f6389583390>"
      ]
     },
     "metadata": {},
     "output_type": "display_data"
    }
   ],
   "source": [
    "# make for-loop later\n",
    "dat = dats[0]\n",
    "fig = plt.figure()\n",
    "res_1, res_2 = knn(dat[0][:, :20], dat[1][:, :20], 1)\n",
    "plt.scatter(res_1[0], res_1[1], color=\"red\")\n",
    "plt.scatter(res_2[0], res_2[1], color=\"blue\")\n",
    "plt.show()"
   ]
  },
  {
   "cell_type": "code",
   "execution_count": null,
   "metadata": {
    "collapsed": true
   },
   "outputs": [],
   "source": []
  }
 ],
 "metadata": {
  "kernelspec": {
   "display_name": "Python 2",
   "language": "python",
   "name": "python2"
  },
  "language_info": {
   "codemirror_mode": {
    "name": "ipython",
    "version": 2
   },
   "file_extension": ".py",
   "mimetype": "text/x-python",
   "name": "python",
   "nbconvert_exporter": "python",
   "pygments_lexer": "ipython2",
   "version": "2.7.6"
  }
 },
 "nbformat": 4,
 "nbformat_minor": 0
}
