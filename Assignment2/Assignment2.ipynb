{
 "cells": [
  {
   "cell_type": "code",
   "execution_count": 1,
   "metadata": {
    "collapsed": false
   },
   "outputs": [],
   "source": [
    "import numpy as np\n",
    "import scipy.linalg\n",
    "import scipy.io\n",
    "from scipy.interpolate import griddata\n",
    "%matplotlib inline"
   ]
  },
  {
   "cell_type": "code",
   "execution_count": 48,
   "metadata": {
    "collapsed": false
   },
   "outputs": [
    {
     "data": {
      "text/plain": [
       "['a1',\n",
       " '__header__',\n",
       " '__globals__',\n",
       " 'b4',\n",
       " 'a3',\n",
       " 'a2',\n",
       " 'a4',\n",
       " 'b2',\n",
       " 'b3',\n",
       " '__version__',\n",
       " 'b1']"
      ]
     },
     "execution_count": 48,
     "metadata": {},
     "output_type": "execute_result"
    }
   ],
   "source": [
    "mat = scipy.io.loadmat(\"assign2.mat\")\n",
    "mat.keys()"
   ]
  },
  {
   "cell_type": "code",
   "execution_count": 53,
   "metadata": {
    "collapsed": false,
    "scrolled": true
   },
   "outputs": [],
   "source": [
    "dats = []\n",
    "dats.append([mat[\"a1\"], mat[\"b1\"]])\n",
    "dats.append([mat[\"a2\"], mat[\"b2\"]])\n",
    "dats.append([mat[\"a3\"], mat[\"b3\"]])\n",
    "dats.append([mat[\"a4\"], mat[\"b4\"]])"
   ]
  },
  {
   "cell_type": "code",
   "execution_count": 75,
   "metadata": {
    "collapsed": false
   },
   "outputs": [
    {
     "data": {
      "image/png": "[encoded data removed]",
      "text/plain": [
       "<matplotlib.figure.Figure at 0x7ff46c34afd0>"
      ]
     },
     "metadata": {},
     "output_type": "display_data"
    }
   ],
   "source": [
    "dat = [\n",
    "    np.array([[-2, 0], [-2, 1], [-2,-1], [3, 0]]).T,\n",
    "    np.array([[2, 0], [2, 1], [2,-1], [-3, 0]]).T\n",
    "]\n",
    "\n",
    "fig = plt.figure()\n",
    "plt.scatter(dat[0][0], dat[0][1], color=\"red\")\n",
    "plt.scatter(dat[1][0], dat[1][1], color=\"blue\")\n",
    "plt.show()"
   ]
  },
  {
   "cell_type": "code",
   "execution_count": 6,
   "metadata": {
    "collapsed": false
   },
   "outputs": [],
   "source": [
    "def med(c1, c2):\n",
    "    \"\"\"Create an med function\"\"\"\n",
    "    z1 = np.mean(c1, axis=1)\n",
    "    assert z1.shape == (2,)\n",
    "    z2 = np.mean(c2, axis=1)\n",
    "    assert z2.shape == (2,)\n",
    "\n",
    "    def f(x):\n",
    "        return -np.dot(z1,x) + 0.5*np.dot(z1.T,z1) < -np.dot(z2,x) + 0.5*np.dot(z2.T,z2)\n",
    "\n",
    "    return f"
   ]
  },
  {
   "cell_type": "code",
   "execution_count": 8,
   "metadata": {
    "collapsed": false
   },
   "outputs": [],
   "source": [
    "from numpy.linalg import norm, inv\n",
    "\n",
    "def ged(c1, c2):\n",
    "    s1 = inv(np.cov(c1))\n",
    "    assert s1.shape == (2,2)\n",
    "    s2 = inv(np.cov(c2))\n",
    "    assert s2.shape == (2,2)\n",
    "    u1 = np.mean(c1, axis=1)\n",
    "    assert u1.shape == (2,)\n",
    "    u2 = np.mean(c2, axis=1)\n",
    "    assert u2.shape == (2,)\n",
    "    \n",
    "    def f(x):\n",
    "        return np.sqrt(np.dot(np.dot((x - u1),s1),(x - u1).T)) > \\\n",
    "               np.sqrt(np.dot(np.dot((x - u2),s2),(x - u2).T)) \n",
    "        \n",
    "    return f"
   ]
  },
  {
   "cell_type": "code",
   "execution_count": 65,
   "metadata": {
    "collapsed": true
   },
   "outputs": [],
   "source": [
    "from itertools import chain\n",
    "\n",
    "def knn(c1, c2, k, offset=5):\n",
    "    # initiaslise with all the points from each class\n",
    "    c1_len = c1.shape[1]\n",
    "    zero_shape = (c1.shape[0], c1_len*2)\n",
    "    c1_res = np.zeros(zero_shape)\n",
    "    c1_count = 0\n",
    "    c2_res = np.zeros(zero_shape)\n",
    "    c2_count = 0\n",
    "    c_train = np.concatenate((c1[:, :offset], c2[:, :offset]), axis=1)\n",
    "    c_all = np.concatenate((c1, c2), axis=1)\n",
    "    err_count = 0\n",
    "\n",
    "    # iterate through all the test points using indexing\n",
    "    # because numpy nditer is psychotic\n",
    "    for c_ind in chain(xrange(offset), xrange(c1_len, c1_len+offset)):\n",
    "        val = c_all[:, c_ind]\n",
    "        # find the nearest K neighbours\n",
    "        ind = np.argpartition(norm(c_train.T - val, axis=1), k+1)[:k+1][1:k+1]\n",
    "\n",
    "        # class the point where the majority of the neighbours are\n",
    "        sort_res = 0\n",
    "        for ix in ind:\n",
    "            if ix < c1.shape[1] - offset:\n",
    "                sort_res += 1\n",
    "            else:\n",
    "                sort_res -= 1\n",
    "\n",
    "        if sort_res > 0:\n",
    "            c1_res[:, c1_count] = val\n",
    "            c1_count += 1\n",
    "\n",
    "            if c_ind > c1.shape[1]:\n",
    "                err_count += 1\n",
    "        else:\n",
    "            c2_res[:, c2_count] = val\n",
    "            c2_count += 1\n",
    "\n",
    "            if c_ind <= c1.shape[1]:\n",
    "                err_count += 1\n",
    "\n",
    "    assert c1_count + c2_count == 2*offset\n",
    "    return (c1_res[:, :c1_count], c2_res[:, :c2_count], err_count)"
   ]
  },
  {
   "cell_type": "code",
   "execution_count": 74,
   "metadata": {
    "collapsed": true
   },
   "outputs": [],
   "source": [
    "def get_err(funct, dat1, dat2, train=5):\n",
    "\n",
    "    # get the function, calculate and return the error\n",
    "    tot_res = 2.0*float(dat1.shape[1] - train)\n",
    "    assert tot_res >= 2\n",
    "\n",
    "    if type(funct) is tuple:\n",
    "        res = funct[0](dat1, dat2, funct[1], train)\n",
    "        return float(res[2]) / tot_res\n",
    "    else:\n",
    "        func = funct(dat1[:, :train], dat2[:, :train])\n",
    "        tot_err = 0\n",
    "\n",
    "        if funct == med:\n",
    "            res = func(dat1[:, train:])\n",
    "            tot_err += np.where(res == False)[0].shape[0]\n",
    "            res = func(dat2[:, train:])\n",
    "            tot_err += np.where(res == True)[0].shape[0]\n",
    "\n",
    "        elif funct == ged:\n",
    "\n",
    "            def ged_err(ged_func, ged_dat, expected):\n",
    "                res = []\n",
    "                for dat in list(ged_dat):\n",
    "                    res.append(ged_func(dat))\n",
    "                res = np.array(res, dtype=np.bool)\n",
    "                return np.where(res == expected)[0].shape[0]\n",
    "\n",
    "            tot_err += ged_err(func, dat1[:, train:].T, True)\n",
    "            tot_err += ged_err(func, dat2[:, train:].T, False)\n",
    "\n",
    "        assert tot_err <= tot_res\n",
    "        return float(tot_err) / tot_res"
   ]
  },
  {
   "cell_type": "code",
   "execution_count": 66,
   "metadata": {
    "collapsed": false
   },
   "outputs": [],
   "source": [
    "funcs = [med, ged, (knn, 1), (knn, 3), (knn, 5)]\n",
    "res = [[ [] for j in range(len(dats)) ] for i in range(len(funcs))]\n",
    "\n",
    "for f_i, funct in enumerate(funcs):\n",
    "    for d_i, dat in enumerate(dats):\n",
    "        dat1 = dat[0]\n",
    "        dat2 = dat[1]\n",
    "        for x_i in list(np.linspace(5, 200, 40)):\n",
    "            # get the training data from the classification data\n",
    "            res[f_i][d_i].append(get_err(funct, dat1, dat2))\n",
    "            dat1 = np.roll(dat1, 5, axis=1)\n",
    "            dat2 = np.roll(dat2, 5, axis=1)\n",
    "\n",
    "# get the means and variances for each classification method\n",
    "final_mean = np.mean(res, axis=2)\n",
    "final_var = np.std(res, axis=2)    "
   ]
  },
  {
   "cell_type": "code",
   "execution_count": 67,
   "metadata": {
    "collapsed": false
   },
   "outputs": [
    {
     "name": "stdout",
     "output_type": "stream",
     "text": [
      "[[ 0.076375   0.4411875  0.4725     0.4725     0.4725   ]\n",
      " [ 0.3305625  0.3169375  0.4725     0.4725     0.4725   ]\n",
      " [ 0.278625   0.3        0.4725     0.4725     0.4725   ]\n",
      " [ 0.2133125  0.3453125  0.4725     0.4725     0.4725   ]]\n",
      "[[ 0.01468364  0.0730432   0.          0.          0.        ]\n",
      " [ 0.06131753  0.10349289  0.          0.          0.        ]\n",
      " [ 0.06246487  0.09726896  0.          0.          0.        ]\n",
      " [ 0.01814342  0.09318528  0.          0.          0.        ]]\n"
     ]
    }
   ],
   "source": [
    "print(final_mean.T)\n",
    "print(final_var.T)"
   ]
  },
  {
   "cell_type": "code",
   "execution_count": 72,
   "metadata": {
    "collapsed": false
   },
   "outputs": [],
   "source": [
    "res = [[ [] for j in range(len(dats)) ] for i in range(len(funcs))]\n",
    "\n",
    "# jack-knife\n",
    "for f_i, funct in enumerate(funcs):\n",
    "    for d_i, dat in enumerate(dats):\n",
    "        dat1 = dat[0]\n",
    "        dat2 = dat[1]\n",
    "\n",
    "        for offset in xrange(200):\n",
    "            res[f_i][d_i].append(get_err(funct, dat1, dat2, offset=199))\n",
    "            dat1 = np.roll(dat1, 1, axis=1)\n",
    "            dat2 = np.roll(dat2, 1, axis=1)\n",
    "\n",
    "p_err_final = np.sum(res, axis=2) / 200.0"
   ]
  },
  {
   "cell_type": "code",
   "execution_count": 73,
   "metadata": {
    "collapsed": false
   },
   "outputs": [
    {
     "name": "stdout",
     "output_type": "stream",
     "text": [
      "[[  1.50000000e-04   8.31250000e-04   6.62500000e-04   5.12500000e-04]\n",
      " [  2.33750000e-01   1.88881250e-01   1.55193750e-01   1.86625000e-01]\n",
      " [  1.24375000e-03   1.25625000e-03   1.18750000e-03   1.33125000e-03]\n",
      " [  1.26250000e-03   1.33750000e-03   1.21875000e-03   1.28750000e-03]\n",
      " [  1.24375000e-03   1.29375000e-03   1.19375000e-03   1.23750000e-03]]\n"
     ]
    }
   ],
   "source": [
    "print(p_err_final)"
   ]
  },
  {
   "cell_type": "code",
   "execution_count": null,
   "metadata": {
    "collapsed": true
   },
   "outputs": [],
   "source": []
  }
 ],
 "metadata": {
  "kernelspec": {
   "display_name": "Python 2",
   "language": "python",
   "name": "python2"
  },
  "language_info": {
   "codemirror_mode": {
    "name": "ipython",
    "version": 2
   },
   "file_extension": ".py",
   "mimetype": "text/x-python",
   "name": "python",
   "nbconvert_exporter": "python",
   "pygments_lexer": "ipython2",
   "version": "2.7.6"
  }
 },
 "nbformat": 4,
 "nbformat_minor": 0
}
