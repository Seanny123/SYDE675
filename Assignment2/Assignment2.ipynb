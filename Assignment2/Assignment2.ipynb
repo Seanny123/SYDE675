{
 "cells": [
  {
   "cell_type": "code",
   "execution_count": 3,
   "metadata": {
    "collapsed": false
   },
   "outputs": [],
   "source": [
    "import numpy as np\n",
    "import scipy.linalg\n",
    "import scipy.io\n",
    "from scipy.interpolate import griddata\n",
    "%matplotlib inline\n",
    "\n",
    "def trans_cov(dat, cov, mean=np.array([[0],[0]])):\n",
    "    evals, evecs = scipy.linalg.eigh(cov)\n",
    "    c = np.dot(evecs, np.diag(np.sqrt(evals)))\n",
    "    res = np.dot(c,dat)\n",
    "    if not np.allclose(np.round(np.cov(res)), cov):\n",
    "        print(np.cov(res))\n",
    "    res = res + mean\n",
    "    assert np.allclose(np.round(np.mean(res, axis=1)), mean.T[0])\n",
    "    \n",
    "    return res"
   ]
  },
  {
   "cell_type": "code",
   "execution_count": 4,
   "metadata": {
    "collapsed": false
   },
   "outputs": [
    {
     "name": "stdout",
     "output_type": "stream",
     "text": [
      "[[ 4.07451574  2.59838977]\n",
      " [ 2.59838977  3.11604588]]\n",
      "[[ 3.29306939  1.51159889]\n",
      " [ 1.51159889  2.54438721]]\n",
      "[[ 7.07738125 -3.27646624]\n",
      " [-3.27646624  4.77276378]]\n"
     ]
    }
   ],
   "source": [
    "dats = [\n",
    "            [trans_cov(np.random.randn(2, 200), np.eye(2)),\n",
    "             trans_cov(np.random.randn(2, 200), np.eye(2), np.array([[3],[0]]))],\n",
    "    \n",
    "            [trans_cov(np.random.randn(2, 200), np.array([[4,3],[3,4]]), np.array([[-1],[0]])),\n",
    "             trans_cov(np.random.randn(2, 200), np.array([[4,3],[3,4]]), np.array([[1],[0]]))],\n",
    "    \n",
    "            [trans_cov(np.random.randn(2, 200), np.array([[3,1],[1,2]])),\n",
    "             trans_cov(np.random.randn(2, 200), np.array([[7,-3],[-3,4]]), np.array([[3],[0]]))]\n",
    "        ]"
   ]
  },
  {
   "cell_type": "code",
   "execution_count": 5,
   "metadata": {
    "collapsed": false,
    "scrolled": true
   },
   "outputs": [],
   "source": [
    "dats.append([scipy.io.loadmat(\"assign2.mat\")[\"a1\"], scipy.io.loadmat(\"assign2.mat\")[\"b1\"]])"
   ]
  },
  {
   "cell_type": "code",
   "execution_count": 6,
   "metadata": {
    "collapsed": false
   },
   "outputs": [],
   "source": [
    "import matplotlib.pyplot as plt\n",
    "from matplotlib.patches import Ellipse\n",
    "\n",
    "def plot_point_cov(points, nstd=2, ax=None, **kwargs):\n",
    "    \"\"\"\n",
    "    Plots an `nstd` sigma ellipse based on the mean and covariance of a point\n",
    "    \"cloud\" (points, an Nx2 array).\n",
    "\n",
    "    Parameters\n",
    "    ----------\n",
    "        points : An Nx2 array of the data points.\n",
    "        nstd : The radius of the ellipse in numbers of standard deviations.\n",
    "            Defaults to 2 standard deviations.\n",
    "        ax : The axis that the ellipse will be plotted on. Defaults to the \n",
    "            current axis.\n",
    "        Additional keyword arguments are pass on to the ellipse patch.\n",
    "\n",
    "    Returns\n",
    "    -------\n",
    "        A matplotlib ellipse artist\n",
    "    \"\"\"\n",
    "    pos = points.mean(axis=0)\n",
    "    cov = np.cov(points, rowvar=False)\n",
    "    return plot_cov_ellipse(cov, pos, nstd, ax, **kwargs)\n",
    "\n",
    "def plot_cov_ellipse(cov, pos, nstd=2, ax=None, **kwargs):\n",
    "    \"\"\"\n",
    "    Plots an `nstd` sigma error ellipse based on the specified covariance\n",
    "    matrix (`cov`). Additional keyword arguments are passed on to the \n",
    "    ellipse patch artist.\n",
    "\n",
    "    Parameters\n",
    "    ----------\n",
    "        cov : The 2x2 covariance matrix to base the ellipse on\n",
    "        pos : The location of the center of the ellipse. Expects a 2-element\n",
    "            sequence of [x0, y0].\n",
    "        nstd : The radius of the ellipse in numbers of standard deviations.\n",
    "            Defaults to 2 standard deviations.\n",
    "        ax : The axis that the ellipse will be plotted on. Defaults to the \n",
    "            current axis.\n",
    "        Additional keyword arguments are pass on to the ellipse patch.\n",
    "\n",
    "    Returns\n",
    "    -------\n",
    "        A matplotlib ellipse artist\n",
    "    \"\"\"\n",
    "    def eigsorted(cov):\n",
    "        vals, vecs = np.linalg.eigh(cov)\n",
    "        order = vals.argsort()[::-1]\n",
    "        return vals[order], vecs[:,order]\n",
    "\n",
    "    if ax is None:\n",
    "        ax = plt.gca()\n",
    "\n",
    "    vals, vecs = eigsorted(cov)\n",
    "    theta = np.degrees(np.arctan2(*vecs[:,0][::-1]))\n",
    "\n",
    "    # Width and height are \"full\" widths, not radius\n",
    "    width, height = 2 * nstd * np.sqrt(vals)\n",
    "    ellip = Ellipse(xy=pos, width=width, height=height, angle=theta, **kwargs)\n",
    "\n",
    "    ax.add_artist(ellip)\n",
    "    return ellip"
   ]
  },
  {
   "cell_type": "code",
   "execution_count": 7,
   "metadata": {
    "collapsed": false
   },
   "outputs": [
    {
     "name": "stderr",
     "output_type": "stream",
     "text": [
      "/usr/lib/pymodules/python2.7/matplotlib/collections.py:548: FutureWarning: elementwise comparison failed; returning scalar instead, but in the future will perform elementwise comparison\n",
      "  if self._edgecolors == 'face':\n"
     ]
    },
    {
     "data": {
      "image/png": "[encoded data removed]",
      "text/plain": [
       "<matplotlib.figure.Figure at 0x7ffaaea4c210>"
      ]
     },
     "metadata": {},
     "output_type": "display_data"
    }
   ],
   "source": [
    "dat = dats[3]\n",
    "fig = plt.figure()\n",
    "plt.scatter(dat[0][0], dat[0][1], color=\"red\")\n",
    "plt.scatter(dat[1][0], dat[1][1], color=\"blue\")\n",
    "plt.show()"
   ]
  },
  {
   "cell_type": "code",
   "execution_count": 8,
   "metadata": {
    "collapsed": false
   },
   "outputs": [],
   "source": [
    "def med(c1, c2):\n",
    "    \"\"\"Create an med function\"\"\"\n",
    "    z1 = np.mean(c1, axis=1)\n",
    "    z2 = np.mean(c2, axis=1)\n",
    "    def f(x):\n",
    "        return -np.dot(z1,x) + 0.5*np.dot(z1.T,z1) < -np.dot(z2,x) + 0.5*np.dot(z2.T,z2)\n",
    "    return f"
   ]
  },
  {
   "cell_type": "code",
   "execution_count": 9,
   "metadata": {
    "collapsed": true
   },
   "outputs": [],
   "source": [
    "from numpy.linalg import norm, inv\n",
    "\n",
    "def map_class(c1, c2):\n",
    "    e1 = np.cov(c1)\n",
    "    e2 = np.cov(c2)\n",
    "    u1 = np.mean(c1, axis=1)\n",
    "    u2 = np.mean(c2, axis=1)\n",
    "    \n",
    "    def f(x):\n",
    "        # how do I vectorize this?\n",
    "        return np.log(np.sqrt(norm(e2))/np.sqrt(norm(e1))) \\\n",
    "               -0.5*np.dot(np.dot((x - u1),inv(e1)),(x - u1).T) \\\n",
    "               +0.5*np.dot(np.dot((x - u2),inv(e2)),(x - u2).T) \\\n",
    "                < 0\n",
    "    return f"
   ]
  },
  {
   "cell_type": "code",
   "execution_count": 10,
   "metadata": {
    "collapsed": false
   },
   "outputs": [],
   "source": [
    "def ged(c1, c2):\n",
    "    s1 = inv(np.cov(c1))\n",
    "    s2 = inv(np.cov(c2))\n",
    "    u1 = np.mean(c1, axis=1)\n",
    "    u2 = np.mean(c2, axis=1)\n",
    "    \n",
    "    def f(x):\n",
    "        return np.sqrt(np.dot(np.dot((x - u1),s1),(x - u1).T)) > \\\n",
    "               np.sqrt(np.dot(np.dot((x - u2),s2),(x - u2).T)) \n",
    "        \n",
    "    return f"
   ]
  },
  {
   "cell_type": "code",
   "execution_count": 11,
   "metadata": {
    "collapsed": true
   },
   "outputs": [],
   "source": [
    "def knn(c1, c2, k, offset=5):\n",
    "    # initiaslise with all the points from each class\n",
    "    zero_shape = (c1.shape[0], c1.shape[1]*2)\n",
    "    c1_res = np.zeros(zero_shape)\n",
    "    c1_count = 0\n",
    "    c2_res = np.zeros(zero_shape)\n",
    "    c2_count = 0\n",
    "    c_all = np.concatenate((c1[:, offset:], c2[:, offset:]), axis=1)\n",
    "    err_count = 0\n",
    "\n",
    "    # because numpy nditer is psychotic\n",
    "    for c_ind in xrange(c_all.shape[1]):\n",
    "        val = c_all[:, c_ind]\n",
    "        # find the nearest K neighbours\n",
    "        ind = np.argpartition(norm(c_all.T - val, axis=1), k+1)[:k+1][1:k+1]\n",
    "        \n",
    "        # class the point where the majority of the neighbours are\n",
    "        sort_res = 0\n",
    "        for ix in ind:\n",
    "            if ix < c1.shape[1]:\n",
    "                sort_res += 1\n",
    "            else:\n",
    "                sort_res -= 1\n",
    "\n",
    "        if sort_res > 0:\n",
    "            c1_res[:, c1_count] = val\n",
    "            c1_count += 1\n",
    "            \n",
    "            if c_ind > c1.shape[1]:\n",
    "                err_count += 1\n",
    "        else:\n",
    "            c2_res[:, c2_count] = val\n",
    "            c2_count += 1\n",
    "            \n",
    "            if c_ind <= c1.shape[1]:\n",
    "                err_count += 1\n",
    "\n",
    "    assert c1_count + c2_count == c1.shape[1] + c2.shape[1] - 2*offset\n",
    "    return (c1_res[:, :c1_count], c2_res[:, :c2_count], err_count)"
   ]
  },
  {
   "cell_type": "code",
   "execution_count": 13,
   "metadata": {
    "collapsed": false
   },
   "outputs": [],
   "source": [
    "funcs = [med, ged, (knn, 1), (knn, 3), (knn, 5)]\n",
    "res = [[], [], [], [], []]\n",
    "\n",
    "def get_err(funct, dat1, dat2, offset=5):\n",
    "    # get the function, calculate and return the error\n",
    "    dat_length = dat1.shape[1] + dat2.shape[1]\n",
    "    if type(funct) is tuple:\n",
    "        res = funct[0](dat1, dat2, funct[1], offset)\n",
    "        return float(res[2]) / float(dat_length)\n",
    "    else:\n",
    "        func = funct(dat1[:, :offset], dat2[:, :offset])\n",
    "        tot_err = 0\n",
    "\n",
    "        if funct == med:\n",
    "            res = func(dat1[:, offset:])\n",
    "            tot_err += np.where(res == False)[0].shape[0]\n",
    "            res = func(dat2[:, offset:])\n",
    "            tot_err += np.where(res == True)[0].shape[0]\n",
    "\n",
    "        elif funct == ged:\n",
    "            res = []\n",
    "            for dat in list(dat1.T):\n",
    "                res.append(func(dat))\n",
    "            a_res = np.array(res, dtype=np.bool)\n",
    "            tot_err += np.where(a_res == False)[0].shape[0]\n",
    "            res = []\n",
    "            for dat in list(dat2.T):\n",
    "                res.append(func(dat))\n",
    "            a_res = np.array(a_res, dtype=np.bool)\n",
    "            tot_err += np.where(res == True)[0].shape[0]\n",
    "\n",
    "        return float(tot_err) / float(dat_length)\n",
    "\n",
    "\n",
    "for f_i, funct in enumerate(funcs):\n",
    "    for dat in dats:\n",
    "        dat1 = dat[0]\n",
    "        dat2 = dat[1]\n",
    "        for x_i in list(np.linspace(5, 200, 40)):\n",
    "            # get the training data from the classification data\n",
    "            res[f_i].append(get_err(funct, dat1, dat2))\n",
    "            dat1 = np.roll(dat1, 5, axis=1)\n",
    "            dat2 = np.roll(dat2, 5, axis=1)\n",
    "\n",
    "# get the means and variances for each classification method\n",
    "final_mean = np.mean(res, axis=1)\n",
    "final_var = np.var(res, axis=1)    "
   ]
  },
  {
   "cell_type": "code",
   "execution_count": 19,
   "metadata": {
    "collapsed": false
   },
   "outputs": [
    {
     "data": {
      "text/plain": [
       "array([ 0.01831726,  0.01224589,  0.00735123,  0.00394413,  0.00374027])"
      ]
     },
     "execution_count": 19,
     "metadata": {},
     "output_type": "execute_result"
    }
   ],
   "source": [
    "final_mean = np.mean(res, axis=1)\n",
    "final_var = np.var(res, axis=1) "
   ]
  },
  {
   "cell_type": "code",
   "execution_count": 29,
   "metadata": {
    "collapsed": false
   },
   "outputs": [],
   "source": [
    "res = [[], [], [], [], []]\n",
    "\n",
    "# jack-knife\n",
    "for f_i, funct in enumerate(funcs):\n",
    "    for dat in dats:\n",
    "        dat1 = dat[0]\n",
    "        dat2 = dat[1]\n",
    "\n",
    "        for offset in xrange(5, 195):\n",
    "            res[f_i].append(get_err(funct, dat1, dat2, offset))\n",
    "            \n",
    "p_err_final = 1/400 * np.sum(res, axis=1)\n",
    "# wtf, how do I avoid the singular matrix problem for the GED covariance? Can I just set the minimum xrange to 3?\n",
    "# what about KNN? Can I limit that to 5 and 195?"
   ]
  },
  {
   "cell_type": "code",
   "execution_count": null,
   "metadata": {
    "collapsed": true
   },
   "outputs": [],
   "source": []
  }
 ],
 "metadata": {
  "kernelspec": {
   "display_name": "Python 2",
   "language": "python",
   "name": "python2"
  },
  "language_info": {
   "codemirror_mode": {
    "name": "ipython",
    "version": 2
   },
   "file_extension": ".py",
   "mimetype": "text/x-python",
   "name": "python",
   "nbconvert_exporter": "python",
   "pygments_lexer": "ipython2",
   "version": "2.7.6"
  }
 },
 "nbformat": 4,
 "nbformat_minor": 0
}
