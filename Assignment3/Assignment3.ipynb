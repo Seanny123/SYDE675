{
 "cells": [
  {
   "cell_type": "code",
   "execution_count": 49,
   "metadata": {
    "collapsed": false
   },
   "outputs": [],
   "source": [
    "import numpy as np\n",
    "import scipy.linalg\n",
    "import scipy.io\n",
    "from scipy.interpolate import griddata\n",
    "import matplotlib.pyplot as plt\n",
    "from functools import partial\n",
    "\n",
    "np.random.seed(seed=1)\n",
    "\n",
    "%matplotlib inline"
   ]
  },
  {
   "cell_type": "code",
   "execution_count": 50,
   "metadata": {
    "collapsed": false,
    "scrolled": true
   },
   "outputs": [],
   "source": [
    "mat = scipy.io.loadmat(\"assign3.mat\")\n",
    "dat = [mat[\"a\"].T, mat[\"b\"].T]"
   ]
  },
  {
   "cell_type": "code",
   "execution_count": 51,
   "metadata": {
    "collapsed": false
   },
   "outputs": [
    {
     "name": "stderr",
     "output_type": "stream",
     "text": [
      "/usr/lib/pymodules/python2.7/matplotlib/collections.py:548: FutureWarning: elementwise comparison failed; returning scalar instead, but in the future will perform elementwise comparison\n",
      "  if self._edgecolors == 'face':\n"
     ]
    },
    {
     "data": {
      "image/png": "[encoded data removed]",
      "text/plain": [
       "<matplotlib.figure.Figure at 0x7efed96a8690>"
      ]
     },
     "metadata": {},
     "output_type": "display_data"
    }
   ],
   "source": [
    "fig = plt.figure()\n",
    "plt.scatter(dat[0][0], dat[0][1], color=\"red\")\n",
    "plt.scatter(dat[1][0], dat[1][1], color=\"blue\")\n",
    "plt.show()"
   ]
  },
  {
   "cell_type": "code",
   "execution_count": 52,
   "metadata": {
    "collapsed": false
   },
   "outputs": [],
   "source": [
    "def med(c1, c2):\n",
    "    \"\"\"Create an med function\"\"\"\n",
    "    z1 = np.mean(c1, axis=1)\n",
    "    z2 = np.mean(c2, axis=1)\n",
    "    def f(x):\n",
    "        return -np.dot(z1,x) + 0.5*np.dot(z1.T,z1) < -np.dot(z2,x) + 0.5*np.dot(z2.T,z2)\n",
    "    return f"
   ]
  },
  {
   "cell_type": "code",
   "execution_count": 72,
   "metadata": {
    "collapsed": true
   },
   "outputs": [],
   "source": [
    "def choose(dat, size):\n",
    "    return dat[:, np.random.choice(dat.shape[1], size=size, replace=False)]\n",
    "\n",
    "def get_diff(a, b):\n",
    "    return np.where(a != b)[0]\n",
    "\n",
    "def majority_vote(a, b, c):\n",
    "    res = np.zeros(a.shape)\n",
    "    res[np.where( np.sum((a, b, c), axis=0) >= 2 )] = 1\n",
    "    return res\n",
    "\n",
    "def make_booster(a_dat, b_dat, clsfier):\n",
    "    # choose a quarter for training and classify\n",
    "    a_err = np.empty((2,0))\n",
    "    b_err = np.empty((2,0))\n",
    "    while b_err.shape[1] <= 1 or a_err.shape[1] <= 1:\n",
    "        c1 = clsfier(choose(a_dat, size=a_dat.shape[1]/4), choose(b_dat, size=b_dat.shape[1]/4))\n",
    "\n",
    "        a_err = a_dat[:, np.where(c1(a_dat) == False)[0]]\n",
    "        b_err = b_dat[:, np.where(c1(b_dat) == True)[0]]\n",
    "\n",
    "    # choose a half of the erroroneously classed and train\n",
    "    c2 = clsfier(choose(a_err, size=a_err.shape[1]/2), choose(b_err, size=b_err.shape[1]/2))\n",
    "\n",
    "    # train on disagreement of c1 and c2\n",
    "    a_c1 = c1(a_dat)\n",
    "    a_c2 = c2(a_dat)\n",
    "    b_c1 = c1(b_dat)\n",
    "    b_c2 = c2(b_dat)\n",
    "    \n",
    "    a_diff = a_dat[:, get_diff(a_c1, a_c2)]\n",
    "    b_diff = b_dat[:, get_diff(b_c1, b_c2)]\n",
    "    c3 = clsfier(a_diff, b_diff)\n",
    "    \n",
    "    def boost_eval(x):\n",
    "        return majority_vote(c1(x), c2(x), c3(x))\n",
    "    \n",
    "    return boost_eval"
   ]
  },
  {
   "cell_type": "code",
   "execution_count": 60,
   "metadata": {
    "collapsed": true
   },
   "outputs": [],
   "source": [
    "def make_q_class(c1, c2, q):\n",
    "    err = []\n",
    "    cls = []\n",
    "    \n",
    "    for q_i in xrange(q):\n",
    "        # get the error\n",
    "        a = choose(c1, 1)\n",
    "        b = choose(c2, 1)\n",
    "        cls.append(med(a, b))\n",
    "        \n",
    "        err.append(get_med_err(c1, c2, cls[-1]))\n",
    "\n",
    "    return cls[np.argmin(err)]"
   ]
  },
  {
   "cell_type": "code",
   "execution_count": 65,
   "metadata": {
    "collapsed": true
   },
   "outputs": [],
   "source": [
    "def get_med_err(a, b, med_func):\n",
    "    tot_err = 0\n",
    "    tot_err += np.where(med_func(a) == False)[0].shape[0]\n",
    "    tot_err += np.where(med_func(b) == True)[0].shape[0]\n",
    "    return tot_err"
   ]
  },
  {
   "cell_type": "code",
   "execution_count": 61,
   "metadata": {
    "collapsed": false,
    "scrolled": true
   },
   "outputs": [],
   "source": [
    "med_boosted = make_booster(dat[0], dat[1], med)"
   ]
  },
  {
   "cell_type": "code",
   "execution_count": 62,
   "metadata": {
    "collapsed": false
   },
   "outputs": [],
   "source": [
    "q_boosted = make_booster(dat[0], dat[1], partial(make_q_class, q=10))"
   ]
  },
  {
   "cell_type": "code",
   "execution_count": 66,
   "metadata": {
    "collapsed": false
   },
   "outputs": [
    {
     "name": "stdout",
     "output_type": "stream",
     "text": [
      "0.1975\n"
     ]
    }
   ],
   "source": [
    "tot_err = get_med_err(dat[0], dat[1], med_boosted)\n",
    "# Brent got 0.1902\n",
    "print(tot_err/400.0)"
   ]
  },
  {
   "cell_type": "code",
   "execution_count": 64,
   "metadata": {
    "collapsed": false
   },
   "outputs": [
    {
     "name": "stdout",
     "output_type": "stream",
     "text": [
      "0.125\n"
     ]
    }
   ],
   "source": [
    "tot_err = get_med_err(dat[0], dat[1], q_boosted)\n",
    "# Brent got 0.16805\n",
    "print(tot_err/400.0)"
   ]
  },
  {
   "cell_type": "code",
   "execution_count": null,
   "metadata": {
    "collapsed": true
   },
   "outputs": [],
   "source": [
    "# plot the q classifier boundary\n"
   ]
  },
  {
   "cell_type": "code",
   "execution_count": 73,
   "metadata": {
    "collapsed": false
   },
   "outputs": [
    {
     "name": "stdout",
     "output_type": "stream",
     "text": [
      "[[69, 62, 73, 67, 49, 107, 88, 77, 80, 84], [57, 90, 79, 50, 51, 63, 81, 89, 73, 73], [73, 60, 65, 57, 65, 55, 61, 67, 68, 82], [60, 59, 76, 72, 87, 62, 80, 49, 66, 75], [76, 59, 77, 81, 74, 81, 65, 65, 61, 68], [69, 74, 82, 54, 71, 77, 59, 56, 72, 87]]\n"
     ]
    }
   ],
   "source": [
    "# explore the range of q, from 5 to 30\n",
    "q_err = []\n",
    "for q_val in range(5, 35, 5):\n",
    "    q_err.append([])\n",
    "    for _ in range(10):\n",
    "        q_tmp = make_booster(dat[0], dat[1], partial(make_q_class, q=q_val))\n",
    "        q_err[-1].append(get_med_err(dat[0], dat[1], q_tmp))\n",
    "print(q_err)"
   ]
  },
  {
   "cell_type": "code",
   "execution_count": 67,
   "metadata": {
    "collapsed": false
   },
   "outputs": [
    {
     "name": "stdout",
     "output_type": "stream",
     "text": [
      "0.1975\n"
     ]
    }
   ],
   "source": [
    "# unboosted q\n",
    "q_default = make_q_class(dat[0], dat[1], 10)\n",
    "tot_err = get_med_err(dat[0], dat[1], q_default)\n",
    "print(tot_err/400.0)"
   ]
  },
  {
   "cell_type": "code",
   "execution_count": 68,
   "metadata": {
    "collapsed": false
   },
   "outputs": [
    {
     "name": "stdout",
     "output_type": "stream",
     "text": [
      "0.205\n"
     ]
    }
   ],
   "source": [
    "# unboosted q\n",
    "med_default = med(dat[0], dat[1])\n",
    "tot_err = get_med_err(dat[0], dat[1], med_default)\n",
    "print(tot_err/400.0)"
   ]
  },
  {
   "cell_type": "code",
   "execution_count": null,
   "metadata": {
    "collapsed": true
   },
   "outputs": [],
   "source": []
  }
 ],
 "metadata": {
  "kernelspec": {
   "display_name": "Python 2",
   "language": "python",
   "name": "python2"
  },
  "language_info": {
   "codemirror_mode": {
    "name": "ipython",
    "version": 2
   },
   "file_extension": ".py",
   "mimetype": "text/x-python",
   "name": "python",
   "nbconvert_exporter": "python",
   "pygments_lexer": "ipython2",
   "version": "2.7.6"
  }
 },
 "nbformat": 4,
 "nbformat_minor": 0
}
